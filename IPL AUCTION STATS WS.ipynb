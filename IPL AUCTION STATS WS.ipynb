{
 "cells": [
  {
   "cell_type": "code",
   "execution_count": 13,
   "id": "a546f37c",
   "metadata": {},
   "outputs": [
    {
     "name": "stdout",
     "output_type": "stream",
     "text": [
      "<Response [200]>\n"
     ]
    }
   ],
   "source": [
    "import requests\n",
    "import pandas as pd\n",
    "from bs4 import BeautifulSoup\n",
    "\n",
    "url = \"https://www.iplt20.com/auction/2024\"\n",
    "r = requests.get(url)\n",
    "print(r)"
   ]
  },
  {
   "cell_type": "code",
   "execution_count": 14,
   "id": "3e1805bc",
   "metadata": {},
   "outputs": [],
   "source": [
    "soup = BeautifulSoup(r.text , \"lxml\")\n",
    "table = soup.find(\"table\" , class_ = \"ih-td-tab auction-tbl\")"
   ]
  },
  {
   "cell_type": "code",
   "execution_count": 15,
   "id": "2077b283",
   "metadata": {},
   "outputs": [
    {
     "data": {
      "text/plain": [
       "<table class=\"ih-td-tab auction-tbl\" id=\"t3\" width=\"100%\">\n",
       "<thead>\n",
       "<tr class=\"ih-pt-tbl\" style=\"display:revert\">\n",
       "<th class=\"skip-filter\" style=\"width:25%;text-align: left;\">TEAM</th>\n",
       "<th class=\"skip-filter\" style=\"width:25%;\">FUNDS REMAINING</th>\n",
       "<th class=\"skip-filter\" style=\"width:25%;\">OVERSEAS PLAYERS </th>\n",
       "<th class=\"skip-filter\" style=\"width:25%;\">TOTAL PLAYERS</th>\n",
       "</tr>\n",
       "<thead>\n",
       "</thead></thead><tbody id=\"pointsdata\">\n",
       "<tr>\n",
       "<td class=\"ih-t-color\">\n",
       "<div class=\"ih-pt-ic\">\n",
       "<div class=\"ih-pt-img\" style=\"width: 60px\">\n",
       "<img alt=\"\" src=\"https://bcciplayerimages.s3.ap-south-1.amazonaws.com/ipl/franchises/1702465555_CSKroundbig.png\"/>\n",
       "</div>\n",
       "<h2 class=\"ih-pt-cont\">Chennai Super Kings</h2>\n",
       "</div>\n",
       "</td>\n",
       "<td>₹1,00,00,000</td>\n",
       "<td>8</td>\n",
       "<td>25</td>\n",
       "</tr>\n",
       "<tr>\n",
       "<td class=\"ih-t-color\">\n",
       "<div class=\"ih-pt-ic\">\n",
       "<div class=\"ih-pt-img\" style=\"width: 60px\">\n",
       "<img alt=\"\" src=\"https://bcciplayerimages.s3.ap-south-1.amazonaws.com/ipl/franchises/1702465727_DCroundbig.png\"/>\n",
       "</div>\n",
       "<h2 class=\"ih-pt-cont\">Delhi Capitals</h2>\n",
       "</div>\n",
       "</td>\n",
       "<td>₹9,90,00,000</td>\n",
       "<td>8</td>\n",
       "<td>25</td>\n",
       "</tr>\n",
       "<tr>\n",
       "<td class=\"ih-t-color\">\n",
       "<div class=\"ih-pt-ic\">\n",
       "<div class=\"ih-pt-img\" style=\"width: 60px\">\n",
       "<img alt=\"\" src=\"https://bcciplayerimages.s3.ap-south-1.amazonaws.com/ipl/franchises/1702465836_GTroundbig.png\"/>\n",
       "</div>\n",
       "<h2 class=\"ih-pt-cont\">Gujarat Titans</h2>\n",
       "</div>\n",
       "</td>\n",
       "<td>₹7,85,00,000</td>\n",
       "<td>8</td>\n",
       "<td>25</td>\n",
       "</tr>\n",
       "<tr>\n",
       "<td class=\"ih-t-color\">\n",
       "<div class=\"ih-pt-ic\">\n",
       "<div class=\"ih-pt-img\" style=\"width: 60px\">\n",
       "<img alt=\"\" src=\"https://bcciplayerimages.s3.ap-south-1.amazonaws.com/ipl/franchises/1702465948_KKRroundbig.png\"/>\n",
       "</div>\n",
       "<h2 class=\"ih-pt-cont\">Kolkata Knight Riders</h2>\n",
       "</div>\n",
       "</td>\n",
       "<td>₹1,35,00,000</td>\n",
       "<td>8</td>\n",
       "<td>23</td>\n",
       "</tr>\n",
       "<tr>\n",
       "<td class=\"ih-t-color\">\n",
       "<div class=\"ih-pt-ic\">\n",
       "<div class=\"ih-pt-img\" style=\"width: 60px\">\n",
       "<img alt=\"\" src=\"https://bcciplayerimages.s3.ap-south-1.amazonaws.com/ipl/franchises/1702466030_LSGroundbig.png\"/>\n",
       "</div>\n",
       "<h2 class=\"ih-pt-cont\">Lucknow Super Giants</h2>\n",
       "</div>\n",
       "</td>\n",
       "<td>₹95,00,000</td>\n",
       "<td>8</td>\n",
       "<td>25</td>\n",
       "</tr>\n",
       "<tr>\n",
       "<td class=\"ih-t-color\">\n",
       "<div class=\"ih-pt-ic\">\n",
       "<div class=\"ih-pt-img\" style=\"width: 60px\">\n",
       "<img alt=\"\" src=\"https://bcciplayerimages.s3.ap-south-1.amazonaws.com/ipl/franchises/1702466090_MIroundbig.png\"/>\n",
       "</div>\n",
       "<h2 class=\"ih-pt-cont\">Mumbai Indians</h2>\n",
       "</div>\n",
       "</td>\n",
       "<td>₹1,05,00,000</td>\n",
       "<td>8</td>\n",
       "<td>25</td>\n",
       "</tr>\n",
       "<tr>\n",
       "<td class=\"ih-t-color\">\n",
       "<div class=\"ih-pt-ic\">\n",
       "<div class=\"ih-pt-img\" style=\"width: 60px\">\n",
       "<img alt=\"\" src=\"https://bcciplayerimages.s3.ap-south-1.amazonaws.com/ipl/franchises/1702466143_PBKSroundbig.png\"/>\n",
       "</div>\n",
       "<h2 class=\"ih-pt-cont\">Punjab Kings</h2>\n",
       "</div>\n",
       "</td>\n",
       "<td>₹4,15,00,000</td>\n",
       "<td>8</td>\n",
       "<td>25</td>\n",
       "</tr>\n",
       "<tr>\n",
       "<td class=\"ih-t-color\">\n",
       "<div class=\"ih-pt-ic\">\n",
       "<div class=\"ih-pt-img\" style=\"width: 60px\">\n",
       "<img alt=\"\" src=\"https://bcciplayerimages.s3.ap-south-1.amazonaws.com/ipl/franchises/1702466295_RRroundbig.png\"/>\n",
       "</div>\n",
       "<h2 class=\"ih-pt-cont\">Rajasthan Royals</h2>\n",
       "</div>\n",
       "</td>\n",
       "<td>₹20,00,000</td>\n",
       "<td>8</td>\n",
       "<td>22</td>\n",
       "</tr>\n",
       "<tr>\n",
       "<td class=\"ih-t-color\">\n",
       "<div class=\"ih-pt-ic\">\n",
       "<div class=\"ih-pt-img\" style=\"width: 60px\">\n",
       "<img alt=\"\" src=\"https://bcciplayerimages.s3.ap-south-1.amazonaws.com/ipl/franchises/1702466217_RCBroundbig.png\"/>\n",
       "</div>\n",
       "<h2 class=\"ih-pt-cont\">Royal Challengers Bengaluru</h2>\n",
       "</div>\n",
       "</td>\n",
       "<td>₹2,85,00,000</td>\n",
       "<td>8</td>\n",
       "<td>25</td>\n",
       "</tr>\n",
       "<tr>\n",
       "<td class=\"ih-t-color\">\n",
       "<div class=\"ih-pt-ic\">\n",
       "<div class=\"ih-pt-img\" style=\"width: 60px\">\n",
       "<img alt=\"\" src=\"https://bcciplayerimages.s3.ap-south-1.amazonaws.com/ipl/franchises/1702466366_SRHroundbig.png\"/>\n",
       "</div>\n",
       "<h2 class=\"ih-pt-cont\">Sunrisers Hyderabad</h2>\n",
       "</div>\n",
       "</td>\n",
       "<td>₹3,20,00,000</td>\n",
       "<td>8</td>\n",
       "<td>25</td>\n",
       "</tr>\n",
       "</tbody>\n",
       "</table>"
      ]
     },
     "execution_count": 15,
     "metadata": {},
     "output_type": "execute_result"
    }
   ],
   "source": [
    "table"
   ]
  },
  {
   "cell_type": "code",
   "execution_count": 21,
   "id": "346b7781",
   "metadata": {},
   "outputs": [
    {
     "name": "stdout",
     "output_type": "stream",
     "text": [
      "['TEAM', 'FUNDS REMAINING', 'OVERSEAS PLAYERS ', 'TOTAL PLAYERS']\n"
     ]
    }
   ],
   "source": [
    "header = table.find_all(\"th\")\n",
    "header\n",
    "\n",
    "titles = []\n",
    "for i in header:\n",
    "    title = i.text\n",
    "    titles.append(title)\n",
    "\n",
    "print(titles)"
   ]
  },
  {
   "cell_type": "code",
   "execution_count": 22,
   "id": "be51dc42",
   "metadata": {},
   "outputs": [
    {
     "data": {
      "text/html": [
       "<div>\n",
       "<style scoped>\n",
       "    .dataframe tbody tr th:only-of-type {\n",
       "        vertical-align: middle;\n",
       "    }\n",
       "\n",
       "    .dataframe tbody tr th {\n",
       "        vertical-align: top;\n",
       "    }\n",
       "\n",
       "    .dataframe thead th {\n",
       "        text-align: right;\n",
       "    }\n",
       "</style>\n",
       "<table border=\"1\" class=\"dataframe\">\n",
       "  <thead>\n",
       "    <tr style=\"text-align: right;\">\n",
       "      <th></th>\n",
       "      <th>TEAM</th>\n",
       "      <th>FUNDS REMAINING</th>\n",
       "      <th>OVERSEAS PLAYERS</th>\n",
       "      <th>TOTAL PLAYERS</th>\n",
       "    </tr>\n",
       "  </thead>\n",
       "  <tbody>\n",
       "  </tbody>\n",
       "</table>\n",
       "</div>"
      ],
      "text/plain": [
       "Empty DataFrame\n",
       "Columns: [TEAM, FUNDS REMAINING, OVERSEAS PLAYERS , TOTAL PLAYERS]\n",
       "Index: []"
      ]
     },
     "execution_count": 22,
     "metadata": {},
     "output_type": "execute_result"
    }
   ],
   "source": [
    "df = pd.DataFrame(columns = titles)\n",
    "df"
   ]
  },
  {
   "cell_type": "code",
   "execution_count": 32,
   "id": "486a41de",
   "metadata": {},
   "outputs": [
    {
     "name": "stdout",
     "output_type": "stream",
     "text": [
      "                          TEAM FUNDS REMAINING OVERSEAS PLAYERS TOTAL PLAYERS\n",
      "0          Chennai Super Kings    ₹1,00,00,000                8            25\n",
      "1               Delhi Capitals    ₹9,90,00,000                8            25\n",
      "2               Gujarat Titans    ₹7,85,00,000                8            25\n",
      "3        Kolkata Knight Riders    ₹1,35,00,000                8            23\n",
      "4         Lucknow Super Giants      ₹95,00,000                8            25\n",
      "5               Mumbai Indians    ₹1,05,00,000                8            25\n",
      "6                 Punjab Kings    ₹4,15,00,000                8            25\n",
      "7             Rajasthan Royals      ₹20,00,000                8            22\n",
      "8  Royal Challengers Bengaluru    ₹2,85,00,000                8            25\n",
      "9          Sunrisers Hyderabad    ₹3,20,00,000                8            25\n"
     ]
    }
   ],
   "source": [
    "import pandas as pd  # Import pandas library\n",
    "\n",
    "# Initialize an empty DataFrame\n",
    "df = pd.DataFrame(columns=['TEAM', 'FUNDS REMAINING', 'OVERSEAS PLAYERS', 'TOTAL PLAYERS'])\n",
    "\n",
    "rows = table.find_all(\"tr\")\n",
    "\n",
    "for i in rows[1:]:\n",
    "    first_td = i.find_all(\"td\")[0].find(\"div\", class_=\"ih-pt-ic\").text.strip()\n",
    "    data = i.find_all(\"td\")[1:]\n",
    "    row = [tr.text.strip() for tr in data]  # Use strip() to remove leading and trailing whitespace\n",
    "    row.insert(0, first_td)\n",
    "    df.loc[len(df)] = row\n",
    "\n",
    "print(df)\n"
   ]
  },
  {
   "cell_type": "code",
   "execution_count": 33,
   "id": "3ea22c92",
   "metadata": {},
   "outputs": [],
   "source": [
    "df.to_csv(\"IPL AUCTION STATS.csv\")"
   ]
  },
  {
   "cell_type": "code",
   "execution_count": null,
   "id": "0903a827",
   "metadata": {},
   "outputs": [],
   "source": []
  }
 ],
 "metadata": {
  "kernelspec": {
   "display_name": "Python 3 (ipykernel)",
   "language": "python",
   "name": "python3"
  },
  "language_info": {
   "codemirror_mode": {
    "name": "ipython",
    "version": 3
   },
   "file_extension": ".py",
   "mimetype": "text/x-python",
   "name": "python",
   "nbconvert_exporter": "python",
   "pygments_lexer": "ipython3",
   "version": "3.9.13"
  }
 },
 "nbformat": 4,
 "nbformat_minor": 5
}
